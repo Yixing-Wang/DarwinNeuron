{
 "cells": [
  {
   "cell_type": "code",
   "execution_count": 1,
   "id": "3b39d5ab-da3b-4bcd-a9a9-af1b0d73399d",
   "metadata": {},
   "outputs": [],
   "source": [
    "# delete certain id\n",
    "\n",
    "import sqlite3\n",
    "\n",
    "con = sqlite3.connect(\"../../data/landscape-analysis.db\")\n",
    "con.execute(\"PRAGMA foreign_keys=ON\")\n",
    "\n",
    "# Delete some run ids\n",
    "# run_ids = [(2,), (3,), (4,)]\n",
    "run_ids = [(6,)]\n",
    "con.executemany(\"DELETE FROM runs WHERE id = ?\", run_ids)\n",
    "\n",
    "# Delete specific algorithm and termination entries\n",
    "# con.execute(\"DELETE FROM algorithm WHERE id = ?\", (1,))\n",
    "# con.execute(\"DELETE FROM termination WHERE id = ?\", (1,))\n",
    "\n",
    "con.commit()\n",
    "con.close()\n"
   ]
  },
  {
   "cell_type": "code",
   "execution_count": 4,
   "id": "8b9b447b-2642-459c-b18a-6506dba2112d",
   "metadata": {},
   "outputs": [],
   "source": [
    "# reset column\n",
    "\n",
    "import sqlite3\n",
    "con = sqlite3.connect(\"../../data/landscape-analysis.db\")\n",
    "con.execute(\"UPDATE termination SET n_max_gen = 10 WHERE id = 1\")\n",
    "\n",
    "con.commit()\n",
    "con.close()"
   ]
  },
  {
   "cell_type": "code",
   "execution_count": 5,
   "id": "11589aec-321d-423b-bd17-df4f978c1233",
   "metadata": {},
   "outputs": [
    {
     "name": "stdout",
     "output_type": "stream",
     "text": [
      "(1, None, None, None, None, 10, None, None, '9fb6846d7fc941a0df18bf38c9626ccaec3638db')\n"
     ]
    }
   ],
   "source": [
    "# print row\n",
    "\n",
    "import sqlite3\n",
    "con = sqlite3.connect(\"../../data/landscape-analysis.db\")\n",
    "for row in con.execute(\"SELECT * FROM termination WHERE id = 1\"):\n",
    "    print(row)\n"
   ]
  },
  {
   "cell_type": "code",
   "execution_count": 2,
   "id": "fb3c44c7-9150-4f94-bcca-f7ee3d0f046d",
   "metadata": {},
   "outputs": [],
   "source": [
    "# clean rows in tables\n",
    "import sqlite3\n",
    "\n",
    "db_path = \"../../data/landscape-analysis.db\"\n",
    "con = sqlite3.connect(db_path)\n",
    "cur = con.cursor()\n",
    "\n",
    "cur.execute(\"PRAGMA foreign_keys = ON;\")\n",
    "\n",
    "cur.execute(\"DELETE FROM runs;\")\n",
    "# cur.execute(\"DELETE FROM algorithm;\")\n",
    "# cur.execute(\"DELETE FROM termination;\")\n",
    "\n",
    "# reset ID（sqlite used sqlite_sequence to AUTOINCREMENT id）\n",
    "# cur.execute(\"DELETE FROM sqlite_sequence WHERE name='runs';\")\n",
    "# cur.execute(\"DELETE FROM sqlite_sequence WHERE name='algorithm';\")\n",
    "# cur.execute(\"DELETE FROM sqlite_sequence WHERE name='termination';\")\n",
    "\n",
    "con.commit()\n",
    "con.close()\n"
   ]
  },
  {
   "cell_type": "code",
   "execution_count": 9,
   "id": "2046af0c-59c0-49a6-b290-b168e436c265",
   "metadata": {},
   "outputs": [
    {
     "name": "stdout",
     "output_type": "stream",
     "text": [
      "CREATE TABLE runs (\n",
      "  id INTEGER PRIMARY KEY,\n",
      "  problem_type TEXT NOT NULL,           -- 'nn' | 'bbob'\n",
      "  problem_id INTEGER NOT NULL,          -- polymorphic; validated by triggers below\n",
      "  algorithm_id INTEGER NOT NULL REFERENCES algorithm(id) ON DELETE RESTRICT,\n",
      "  termination_id INTEGER NOT NULL REFERENCES termination(id) ON DELETE RESTRICT,\n",
      "  batch_size INTEGER NOT NULL,\n",
      "  seeds_json TEXT NOT NULL,             -- JSON array of ints\n",
      "  multi_run INTEGER DEFAULT 0,\n",
      "  save_history INTEGER DEFAULT 1,\n",
      "  verbose INTEGER DEFAULT 0,\n",
      "  result_filename TEXT NOT NULL,\n",
      "  created_at TEXT DEFAULT (datetime('now')),\n",
      "  updated_at TEXT\n",
      ")\n"
     ]
    }
   ],
   "source": [
    "cur.execute(\"SELECT sql FROM sqlite_master WHERE name='runs';\")\n",
    "print(cur.fetchone()[0])"
   ]
  },
  {
   "cell_type": "code",
   "execution_count": 5,
   "id": "be5c0baf-f9d2-4be4-b80b-1c52234dd3d5",
   "metadata": {},
   "outputs": [],
   "source": [
    "con.close()"
   ]
  },
  {
   "cell_type": "code",
   "execution_count": 3,
   "id": "c660495c-4766-408f-8b28-426042e717b0",
   "metadata": {},
   "outputs": [
    {
     "name": "stderr",
     "output_type": "stream",
     "text": [
      "/scratch/wx2178/.conda/envs/cns/lib/python3.10/site-packages/IPython/core/magics/osm.py:417: UserWarning: This is now an optional IPython functionality, setting dhist requires you to install the `pickleshare` library.\n",
      "  self.shell.db['dhist'] = compress_dhist(dhist)[-100:]\n"
     ]
    },
    {
     "name": "stdout",
     "output_type": "stream",
     "text": [
      "/scratch/wx2178/SNN/DarwinNeuron\n",
      "ALGO_IDS: {'SGD': 1, 'CMAES': 2, 'DE': 3, 'PSO': 4, 'GA': 5, 'ES': 6, 'SRES': 7, 'ISRES': 8}\n",
      "TERM_ID: 1\n"
     ]
    },
    {
     "data": {
      "text/plain": [
       "1"
      ]
     },
     "execution_count": 3,
     "metadata": {},
     "output_type": "execute_result"
    }
   ],
   "source": [
    "%cd ../../\n",
    "\n",
    "import os, json\n",
    "from pathlib import Path\n",
    "from src.OptimizerAnalysis.db_helpers import connect, ensure_tables, AlgorithmRow, TerminationRow, _table_cols\n",
    "\n",
    "DB = os.environ.get(\"LANDSCAPE_DB\", \"data/landscape-analysis.db\")\n",
    "con = connect(DB); ensure_tables(con)\n",
    "\n",
    "# 迁移：保证 termination 表里有 n_max_epochs 列\n",
    "cols = _table_cols(con, \"termination\")\n",
    "if \"n_max_epochs\" not in cols:\n",
    "    con.execute(\"ALTER TABLE termination ADD COLUMN n_max_epochs INTEGER\")\n",
    "    con.commit()\n",
    "con.close()\n",
    "\n",
    "POP = 50\n",
    "defaults = [\n",
    "    (\"SGD\",   {\"optimizer\": \"adam\", \"lr\": 0.01}),\n",
    "    (\"CMAES\", {\"popsize\": POP, \"sigma\": 0.3}),\n",
    "    (\"DE\",    {\"CR\": 0.9, \"F\": 0.5, \"pop_size\": POP}),\n",
    "    (\"PSO\",   {\"pop_size\": POP}),\n",
    "    (\"GA\",    {\"pop_size\": POP}),\n",
    "    (\"ES\",    {\"pop_size\": POP, \"n_offsprings\": 2*POP, \"rule\": 1.0/7.0}),\n",
    "    (\"SRES\",  {\"pop_size\": POP, \"n_offsprings\": 2*POP, \"rule\": 1.0/7.0, \"gamma\": 0.85, \"alpha\": 0.2}),\n",
    "    (\"ISRES\", {\"pop_size\": POP, \"n_offsprings\": 2*POP, \"rule\": 1.0/7.0, \"gamma\": 0.85, \"alpha\": 0.2}),\n",
    "]\n",
    "\n",
    "ids = {}\n",
    "for name, params in defaults:\n",
    "    aid = AlgorithmRow(name=name.upper(), hyperparameter_problem=False, non_default_params=params).write_to_db(DB)\n",
    "    ids[name.upper()] = aid\n",
    "\n",
    "term_id = TerminationRow(n_max_epochs=100).write_to_db(DB)\n",
    "\n",
    "print(\"ALGO_IDS:\", ids)\n",
    "print(\"TERM_ID:\", term_id)\n",
    "\n",
    "Path(\"algo_ids.json\").write_text(json.dumps(ids, indent=2))\n",
    "Path(\"algo_ids.txt\").write_text(\" \".join(str(v) for v in ids.values()))\n",
    "Path(\"term_id.txt\").write_text(str(term_id))"
   ]
  },
  {
   "cell_type": "code",
   "execution_count": null,
   "id": "de840504-08ea-4dbd-927d-a8a55cca8746",
   "metadata": {},
   "outputs": [],
   "source": []
  }
 ],
 "metadata": {
  "kernelspec": {
   "display_name": "Python (cns)",
   "language": "python",
   "name": "cns"
  },
  "language_info": {
   "codemirror_mode": {
    "name": "ipython",
    "version": 3
   },
   "file_extension": ".py",
   "mimetype": "text/x-python",
   "name": "python",
   "nbconvert_exporter": "python",
   "pygments_lexer": "ipython3",
   "version": "3.10.16"
  }
 },
 "nbformat": 4,
 "nbformat_minor": 5
}
