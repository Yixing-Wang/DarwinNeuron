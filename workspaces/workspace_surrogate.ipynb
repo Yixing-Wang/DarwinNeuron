{
 "cells": [
  {
   "cell_type": "code",
   "execution_count": 2,
   "id": "68a34e17-4347-4c5e-9098-493b47f649e0",
   "metadata": {},
   "outputs": [
    {
     "name": "stderr",
     "output_type": "stream",
     "text": [
      "/scratch/wx2178/.conda/envs/cns/lib/python3.10/site-packages/IPython/core/magics/osm.py:417: UserWarning: This is now an optional IPython functionality, setting dhist requires you to install the `pickleshare` library.\n",
      "  self.shell.db['dhist'] = compress_dhist(dhist)[-100:]\n"
     ]
    },
    {
     "name": "stdout",
     "output_type": "stream",
     "text": [
      "/scratch/wx2178/SNN\n"
     ]
    },
    {
     "data": {
      "text/html": [
       "Tracking run with wandb version 0.19.11"
      ],
      "text/plain": [
       "<IPython.core.display.HTML object>"
      ]
     },
     "metadata": {},
     "output_type": "display_data"
    },
    {
     "data": {
      "text/html": [
       "Run data is saved locally in <code>/scratch/wx2178/wandb_local/wandb/run-20250816_171128-r3sexs9q</code>"
      ],
      "text/plain": [
       "<IPython.core.display.HTML object>"
      ]
     },
     "metadata": {},
     "output_type": "display_data"
    },
    {
     "data": {
      "text/html": [
       "Syncing run <strong><a href='https://wandb.ai/DarwinNeuron/Test/runs/r3sexs9q' target=\"_blank\">SGD-test</a></strong> to <a href='https://wandb.ai/DarwinNeuron/Test' target=\"_blank\">Weights & Biases</a> (<a href='https://wandb.me/developer-guide' target=\"_blank\">docs</a>)<br>"
      ],
      "text/plain": [
       "<IPython.core.display.HTML object>"
      ]
     },
     "metadata": {},
     "output_type": "display_data"
    },
    {
     "data": {
      "text/html": [
       " View project at <a href='https://wandb.ai/DarwinNeuron/Test' target=\"_blank\">https://wandb.ai/DarwinNeuron/Test</a>"
      ],
      "text/plain": [
       "<IPython.core.display.HTML object>"
      ]
     },
     "metadata": {},
     "output_type": "display_data"
    },
    {
     "data": {
      "text/html": [
       " View run at <a href='https://wandb.ai/DarwinNeuron/Test/runs/r3sexs9q' target=\"_blank\">https://wandb.ai/DarwinNeuron/Test/runs/r3sexs9q</a>"
      ],
      "text/plain": [
       "<IPython.core.display.HTML object>"
      ]
     },
     "metadata": {},
     "output_type": "display_data"
    },
    {
     "name": "stderr",
     "output_type": "stream",
     "text": [
      "Traceback (most recent call last):\n",
      "  File \"/state/partition1/job-65060775/ipykernel_1180167/3525460977.py\", line 74, in train_snn\n",
      "    snn_config = RandmanSNNConfig.lookup_by_id(1),\n",
      "  File \"/scratch/wx2178/SNN/DarwinNeuron/src/Models.py\", line 19, in lookup_by_id\n",
      "    conn = sqlite3.connect(db_path)\n",
      "sqlite3.OperationalError: unable to open database file\n"
     ]
    },
    {
     "data": {
      "text/html": [],
      "text/plain": [
       "<IPython.core.display.HTML object>"
      ]
     },
     "metadata": {},
     "output_type": "display_data"
    },
    {
     "data": {
      "text/html": [
       " View run <strong style=\"color:#cdcd00\">256-loss_fn_spk-0.01-SGD-3-100-0.1</strong> at: <a href='https://wandb.ai/DarwinNeuron/Test/runs/r3sexs9q' target=\"_blank\">https://wandb.ai/DarwinNeuron/Test/runs/r3sexs9q</a><br> View project at: <a href='https://wandb.ai/DarwinNeuron/Test' target=\"_blank\">https://wandb.ai/DarwinNeuron/Test</a><br>Synced 5 W&B file(s), 0 media file(s), 0 artifact file(s) and 0 other file(s)"
      ],
      "text/plain": [
       "<IPython.core.display.HTML object>"
      ]
     },
     "metadata": {},
     "output_type": "display_data"
    },
    {
     "data": {
      "text/html": [
       "Find logs at: <code>/scratch/wx2178/wandb_local/wandb/run-20250816_171128-r3sexs9q/logs</code>"
      ],
      "text/plain": [
       "<IPython.core.display.HTML object>"
      ]
     },
     "metadata": {},
     "output_type": "display_data"
    },
    {
     "ename": "OperationalError",
     "evalue": "unable to open database file",
     "output_type": "error",
     "traceback": [
      "\u001b[0;31m---------------------------------------------------------------------------\u001b[0m",
      "\u001b[0;31mOperationalError\u001b[0m                          Traceback (most recent call last)",
      "Cell \u001b[0;32mIn[2], line 106\u001b[0m\n\u001b[1;32m    103\u001b[0m             \u001b[38;5;66;03m# train the model\u001b[39;00m\n\u001b[1;32m    104\u001b[0m             train_loop_snn(my_model, train_loader, val_loader, loss_fn_spk, device, run, epoch, loss_plotter\u001b[38;5;241m=\u001b[39m\u001b[38;5;28;01mNone\u001b[39;00m)\n\u001b[0;32m--> 106\u001b[0m \u001b[43mtrain_snn\u001b[49m\u001b[43m(\u001b[49m\u001b[43m)\u001b[49m\n",
      "Cell \u001b[0;32mIn[2], line 74\u001b[0m, in \u001b[0;36mtrain_snn\u001b[0;34m()\u001b[0m\n\u001b[1;32m     59\u001b[0m result_path, _, _ \u001b[38;5;241m=\u001b[39m init_result_csv(\u001b[38;5;28mdict\u001b[39m(run\u001b[38;5;241m.\u001b[39mconfig), run\u001b[38;5;241m.\u001b[39mproject)\n\u001b[1;32m     61\u001b[0m \u001b[38;5;66;03m# initialize Evolution Strategy instance\u001b[39;00m\n\u001b[1;32m     62\u001b[0m my_model \u001b[38;5;241m=\u001b[39m SGDModel(\n\u001b[1;32m     63\u001b[0m         RandmanSNN,\n\u001b[1;32m     64\u001b[0m         run\u001b[38;5;241m.\u001b[39mconfig\u001b[38;5;241m.\u001b[39mnb_input,\n\u001b[1;32m     65\u001b[0m         run\u001b[38;5;241m.\u001b[39mconfig\u001b[38;5;241m.\u001b[39mnb_output,\n\u001b[1;32m     66\u001b[0m         \u001b[38;5;66;03m# snn_config=RandmanSNNConfig(\u001b[39;00m\n\u001b[1;32m     67\u001b[0m         \u001b[38;5;66;03m#     nb_hidden_1=run.config.nb_hidden_1,\u001b[39;00m\n\u001b[1;32m     68\u001b[0m         \u001b[38;5;66;03m#     nb_hidden_2=run.config.nb_hidden_2,\u001b[39;00m\n\u001b[1;32m     69\u001b[0m         \u001b[38;5;66;03m#     beta=0.9,\u001b[39;00m\n\u001b[1;32m     70\u001b[0m         \u001b[38;5;66;03m#     learn_beta=run.config.learn_beta,\u001b[39;00m\n\u001b[1;32m     71\u001b[0m         \u001b[38;5;66;03m#     recurrent=run.config.recurrent,\u001b[39;00m\n\u001b[1;32m     72\u001b[0m         \u001b[38;5;66;03m#     parameter_type=\"weights\"\u001b[39;00m\n\u001b[1;32m     73\u001b[0m         \u001b[38;5;66;03m# ).lookup_by_id(1),\u001b[39;00m\n\u001b[0;32m---> 74\u001b[0m         snn_config \u001b[38;5;241m=\u001b[39m \u001b[43mRandmanSNNConfig\u001b[49m\u001b[38;5;241;43m.\u001b[39;49m\u001b[43mlookup_by_id\u001b[49m\u001b[43m(\u001b[49m\u001b[38;5;241;43m1\u001b[39;49m\u001b[43m)\u001b[49m,\n\u001b[1;32m     75\u001b[0m         Optimizer\u001b[38;5;241m=\u001b[39moptim\u001b[38;5;241m.\u001b[39mAdam,\n\u001b[1;32m     76\u001b[0m         lr\u001b[38;5;241m=\u001b[39mrun\u001b[38;5;241m.\u001b[39mconfig\u001b[38;5;241m.\u001b[39mlr,\n\u001b[1;32m     77\u001b[0m         device\u001b[38;5;241m=\u001b[39mdevice,\n\u001b[1;32m     78\u001b[0m         spike_grad\u001b[38;5;241m=\u001b[39m\u001b[38;5;28;01mNone\u001b[39;00m,  \u001b[38;5;66;03m# can change based on config.spike_grad\u001b[39;00m\n\u001b[1;32m     79\u001b[0m     )\n\u001b[1;32m     81\u001b[0m \u001b[38;5;66;03m# load dataset\u001b[39;00m\n\u001b[1;32m     82\u001b[0m train_loader, val_loader \u001b[38;5;241m=\u001b[39m split_and_load(\n\u001b[1;32m     83\u001b[0m     RandmanConfig(\n\u001b[1;32m     84\u001b[0m         nb_classes\u001b[38;5;241m=\u001b[39mrun\u001b[38;5;241m.\u001b[39mconfig\u001b[38;5;241m.\u001b[39mnb_output,\n\u001b[0;32m   (...)\u001b[0m\n\u001b[1;32m     91\u001b[0m     run\u001b[38;5;241m.\u001b[39mconfig\u001b[38;5;241m.\u001b[39mbatch_size,\n\u001b[1;32m     92\u001b[0m )\n",
      "File \u001b[0;32m/scratch/wx2178/SNN/DarwinNeuron/src/Models.py:19\u001b[0m, in \u001b[0;36mRandmanSNNConfig.lookup_by_id\u001b[0;34m(cls, id, db_path)\u001b[0m\n\u001b[1;32m     17\u001b[0m \u001b[38;5;129m@classmethod\u001b[39m\n\u001b[1;32m     18\u001b[0m \u001b[38;5;28;01mdef\u001b[39;00m\u001b[38;5;250m \u001b[39m\u001b[38;5;21mlookup_by_id\u001b[39m(\u001b[38;5;28mcls\u001b[39m, \u001b[38;5;28mid\u001b[39m, db_path\u001b[38;5;241m=\u001b[39m\u001b[38;5;124m'\u001b[39m\u001b[38;5;124mdata/landscape-analysis.db\u001b[39m\u001b[38;5;124m'\u001b[39m):\n\u001b[0;32m---> 19\u001b[0m     conn \u001b[38;5;241m=\u001b[39m \u001b[43msqlite3\u001b[49m\u001b[38;5;241;43m.\u001b[39;49m\u001b[43mconnect\u001b[49m\u001b[43m(\u001b[49m\u001b[43mdb_path\u001b[49m\u001b[43m)\u001b[49m\n\u001b[1;32m     20\u001b[0m     cursor \u001b[38;5;241m=\u001b[39m conn\u001b[38;5;241m.\u001b[39mcursor()             \n\u001b[1;32m     21\u001b[0m     cursor\u001b[38;5;241m.\u001b[39mexecute(\u001b[38;5;124mf\u001b[39m\u001b[38;5;124m\"\u001b[39m\u001b[38;5;124mSELECT nb_hidden_1, nb_hidden_2, beta, learn_beta, recurrent, parameter_type FROM snn_models WHERE id=\u001b[39m\u001b[38;5;132;01m{\u001b[39;00m\u001b[38;5;28mid\u001b[39m\u001b[38;5;132;01m}\u001b[39;00m\u001b[38;5;124m\"\u001b[39m)\n",
      "\u001b[0;31mOperationalError\u001b[0m: unable to open database file"
     ]
    }
   ],
   "source": [
    "%cd ..\n",
    "import wandb\n",
    "import torch, wandb, os\n",
    "import torch.optim as optim\n",
    "from torch.nn.functional import cross_entropy\n",
    "from functools import partial\n",
    "\n",
    "from src.RandmanFunctions import RandmanConfig, split_and_load\n",
    "from src.Models import RandmanSNN, spike_regularized_cross_entropy, RandmanSNNConfig\n",
    "from src.EvolutionAlgorithms.EvolutionStrategy import ESModel\n",
    "from src.EvolutionAlgorithms.PseudoPSO import PPSOModel, PPSOModelWithPooling\n",
    "from src.SurrogateGD.VanillaSGD import SGDModel\n",
    "from src.Training import train_loop_snn\n",
    "from src.Utilities import init_result_csv, set_seed\n",
    "# from src.LandscapeAnalysis import LossSurfacePlotter\n",
    "from src.LandscapeAnalysis.LossSurfacePlotter import LossSurfacePlotter\n",
    "\n",
    "device = 'cuda'\n",
    "loss_fn_spk = lambda logits, y, spikes: spike_regularized_cross_entropy(logits, y, spikes, lambda_reg=1e-3)\n",
    "\n",
    "# @torch.no_grad()\n",
    "def train_snn():\n",
    "    run_name = \"SGD-test\"\n",
    "    config = {  # Dataset:\n",
    "        \"nb_input\": 3,\n",
    "        \"nb_output\": 2,\n",
    "        \"nb_steps\": 50,\n",
    "        \"nb_data_samples\": 1000,\n",
    "        \"dim_manifold\": 1,\n",
    "        \"alpha\": 3.0,\n",
    "        # SNN:\n",
    "        \"nb_hidden_1\": 30,\n",
    "        \"nb_hidden_2\": -1,\n",
    "        \"learn_beta\": True,\n",
    "        \"recurrent\": False,\n",
    "        # Evolution Strategy:\n",
    "        \"nb_model_samples\": 100,\n",
    "        \"mirror\": True,\n",
    "        # Training:\n",
    "        \"std\": 0.1,\n",
    "        \"epochs\": 20,\n",
    "        \"batch_size\": 256,\n",
    "        \"method\": \"SGD\",\n",
    "        # Optimization:\n",
    "        \"loss\": \"loss_fn_spk\", #loss_fn_spk\n",
    "        \"optimizer\": \"Adam\",\n",
    "        \"lr\": 0.01,\n",
    "        \"regularization\": \"none\",\n",
    "    }\n",
    "    with wandb.init(\n",
    "        entity=\"DarwinNeuron\", project=\"Test\", name=run_name, config=config\n",
    "    ) as run:\n",
    "        # update current run_name\n",
    "        keys = [\"method\", \"std\", \"batch_size\", \"lr\", \"nb_model_samples\", \"loss\",\"nb_input\"]\n",
    "        sorted_items = [f\"{getattr(run.config, k)}\" for k in sorted(keys)]\n",
    "        run.name = \"-\".join(sorted_items)\n",
    "        \n",
    "        # setting up local csv recording (optional)\n",
    "        result_path, _, _ = init_result_csv(dict(run.config), run.project)\n",
    "\n",
    "        # initialize Evolution Strategy instance\n",
    "        my_model = SGDModel(\n",
    "                RandmanSNN,\n",
    "                run.config.nb_input,\n",
    "                run.config.nb_output,\n",
    "                snn_config=RandmanSNNConfig(\n",
    "                    nb_hidden_1=run.config.nb_hidden_1,\n",
    "                    nb_hidden_2=run.config.nb_hidden_2,\n",
    "                    beta=0.9,\n",
    "                    learn_beta=run.config.learn_beta,\n",
    "                    recurrent=run.config.recurrent,\n",
    "                    parameter_type=\"weights\"\n",
    "                ),\n",
    "                Optimizer=optim.Adam,\n",
    "                lr=run.config.lr,\n",
    "                device=device,\n",
    "                spike_grad=None,  # can change based on config.spike_grad\n",
    "            )\n",
    "\n",
    "        # load dataset\n",
    "        train_loader, val_loader = split_and_load(\n",
    "            RandmanConfig(\n",
    "                nb_classes=run.config.nb_output,\n",
    "                nb_units=run.config.nb_input,\n",
    "                nb_steps=run.config.nb_steps,\n",
    "                nb_samples=run.config.nb_data_samples,\n",
    "                dim_manifold=run.config.dim_manifold,\n",
    "                alpha=run.config.alpha,\n",
    "            ).read_dataset(),\n",
    "            run.config.batch_size,\n",
    "        )\n",
    "        \n",
    "        # loss surface plotter\n",
    "        plotter_dir = f\"results/{run.project}/runs/{run.id}/\"\n",
    "        os.makedirs(plotter_dir, exist_ok=True)\n",
    "        loss_plotter = LossSurfacePlotter(plotter_dir+\"illuminated_loss_surface.npz\")\n",
    "\n",
    "        # epochs\n",
    "        for epoch in range(run.config.epochs):\n",
    "            print(f\"Epoch {epoch}\\n-------------------------------\")\n",
    "\n",
    "            # train the model\n",
    "            train_loop_snn(my_model, train_loader, val_loader, loss_fn_spk, device, run, epoch, loss_plotter=None)\n",
    "\n",
    "train_snn()"
   ]
  },
  {
   "cell_type": "code",
   "execution_count": null,
   "id": "e41bd03d-af65-423e-9941-c6a5455a7774",
   "metadata": {},
   "outputs": [],
   "source": []
  }
 ],
 "metadata": {
  "kernelspec": {
   "display_name": "Python (cns)",
   "language": "python",
   "name": "cns"
  },
  "language_info": {
   "codemirror_mode": {
    "name": "ipython",
    "version": 3
   },
   "file_extension": ".py",
   "mimetype": "text/x-python",
   "name": "python",
   "nbconvert_exporter": "python",
   "pygments_lexer": "ipython3",
   "version": "3.10.16"
  }
 },
 "nbformat": 4,
 "nbformat_minor": 5
}
