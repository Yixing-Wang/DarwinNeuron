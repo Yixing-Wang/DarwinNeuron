{
 "cells": [
  {
   "cell_type": "markdown",
   "metadata": {},
   "source": [
    "Single Run"
   ]
  },
  {
   "cell_type": "code",
   "execution_count": null,
   "metadata": {},
   "outputs": [
    {
     "name": "stderr",
     "output_type": "stream",
     "text": [
      "\u001b[34m\u001b[1mwandb\u001b[0m: \u001b[32m\u001b[41mERROR\u001b[0m Failed to detect the name of this notebook. You can set it manually with the WANDB_NOTEBOOK_NAME environment variable to enable code saving.\n",
      "\u001b[34m\u001b[1mwandb\u001b[0m: Currently logged in as: \u001b[33mwx2178\u001b[0m (\u001b[33mRNNFNNneuron\u001b[0m) to \u001b[32mhttps://api.wandb.ai\u001b[0m. Use \u001b[1m`wandb login --relogin`\u001b[0m to force relogin\n"
     ]
    },
    {
     "data": {
      "text/html": [
       "Tracking run with wandb version 0.19.11"
      ],
      "text/plain": [
       "<IPython.core.display.HTML object>"
      ]
     },
     "metadata": {},
     "output_type": "display_data"
    },
    {
     "data": {
      "text/html": [
       "Run data is saved locally in <code>/scratch/wx2178/wandb_local/wandb/run-20250807_160945-8cchncse</code>"
      ],
      "text/plain": [
       "<IPython.core.display.HTML object>"
      ]
     },
     "metadata": {},
     "output_type": "display_data"
    },
    {
     "data": {
      "text/html": [
       "Syncing run <strong><a href='https://wandb.ai/DarwinNeuron/big-sweep-test/runs/8cchncse' target=\"_blank\">ppso</a></strong> to <a href='https://wandb.ai/DarwinNeuron/big-sweep-test' target=\"_blank\">Weights & Biases</a> (<a href='https://wandb.me/developer-guide' target=\"_blank\">docs</a>)<br>"
      ],
      "text/plain": [
       "<IPython.core.display.HTML object>"
      ]
     },
     "metadata": {},
     "output_type": "display_data"
    },
    {
     "data": {
      "text/html": [
       " View project at <a href='https://wandb.ai/DarwinNeuron/big-sweep-test' target=\"_blank\">https://wandb.ai/DarwinNeuron/big-sweep-test</a>"
      ],
      "text/plain": [
       "<IPython.core.display.HTML object>"
      ]
     },
     "metadata": {},
     "output_type": "display_data"
    },
    {
     "data": {
      "text/html": [
       " View run at <a href='https://wandb.ai/DarwinNeuron/big-sweep-test/runs/8cchncse' target=\"_blank\">https://wandb.ai/DarwinNeuron/big-sweep-test/runs/8cchncse</a>"
      ],
      "text/plain": [
       "<IPython.core.display.HTML object>"
      ]
     },
     "metadata": {},
     "output_type": "display_data"
    },
    {
     "name": "stdout",
     "output_type": "stream",
     "text": [
      "filepath data/randman/a818832ebb0748ed8125b520de22a658.pt\n",
      "Epoch 0\n",
      "-------------------------------\n",
      "batch 0, loss: 2.293459, accuracy: 7.8%\n",
      "Accuracy: 9.2%, Avg loss: 2.299597 \n",
      "\n",
      "batch 1, loss: 2.278652, accuracy: 15.2%\n",
      "Accuracy: 12.5%, Avg loss: 2.292703 \n",
      "\n"
     ]
    },
    {
     "name": "stderr",
     "output_type": "stream",
     "text": [
      "Exception ignored in: <bound method IPythonKernel._clean_thread_parent_frames of <ipykernel.ipkernel.IPythonKernel object at 0x1508eee524a0>>\n",
      "Traceback (most recent call last):\n",
      "  File \"/scratch/wx2178/.conda/envs/cns/lib/python3.10/site-packages/ipykernel/ipkernel.py\", line 775, in _clean_thread_parent_frames\n",
      "    def _clean_thread_parent_frames(\n",
      "KeyboardInterrupt: \n"
     ]
    },
    {
     "name": "stdout",
     "output_type": "stream",
     "text": [
      "batch 2, loss: 2.288794, accuracy: 14.8%\n",
      "Accuracy: 12.5%, Avg loss: 2.292703 \n",
      "\n",
      "batch 3, loss: 2.300711, accuracy: 12.9%\n",
      "Accuracy: 12.5%, Avg loss: 2.292703 \n",
      "\n",
      "batch 4, loss: 2.296641, accuracy: 12.5%\n",
      "Accuracy: 12.5%, Avg loss: 2.292703 \n",
      "\n",
      "batch 5, loss: 2.275235, accuracy: 11.3%\n",
      "Accuracy: 12.2%, Avg loss: 2.280998 \n",
      "\n",
      "batch 6, loss: 2.272424, accuracy: 16.0%\n",
      "Accuracy: 14.5%, Avg loss: 2.288818 \n",
      "\n",
      "batch 7, loss: 2.261144, accuracy: 15.6%\n",
      "Accuracy: 14.6%, Avg loss: 2.286752 \n",
      "\n",
      "batch 8, loss: 2.270815, accuracy: 15.6%\n",
      "Accuracy: 14.6%, Avg loss: 2.286752 \n",
      "\n"
     ]
    }
   ],
   "source": [
    "import wandb\n",
    "import torch, wandb, os\n",
    "import torch.optim as optim\n",
    "from torch.nn.functional import cross_entropy\n",
    "from functools import partial\n",
    "\n",
    "from src.RandmanFunctions import RandmanConfig, split_and_load\n",
    "from src.Models import RandmanSNN, spike_regularized_cross_entropy\n",
    "from src.EvolutionAlgorithms.EvolutionStrategy import ESModel\n",
    "from src.EvolutionAlgorithms.PseudoPSO import PPSOModel, PPSOModelWithPooling\n",
    "from src.SurrogateGD.VanillaSGD import SGDModel\n",
    "from src.Training import train_loop_snn\n",
    "from src.Utilities import init_result_csv, set_seed\n",
    "from src.LandscapeAnalysis.LossSurfacePlotter import LossSurfacePlotter\n",
    "\n",
    "device = 'cuda'\n",
    "loss_fn_spk = lambda logits, y, spikes: spike_regularized_cross_entropy(logits, y, spikes, lambda_reg=1e-3)\n",
    "\n",
    "@torch.no_grad()\n",
    "def train_snn():\n",
    "    run_name = \"ppso\"\n",
    "    config = {  # Dataset:\n",
    "        \"nb_input\": 10,\n",
    "        \"nb_output\": 10,\n",
    "        \"nb_steps\": 50,\n",
    "        \"nb_data_samples\": 1000,\n",
    "        \"dim_manifold\": 2,\n",
    "        \"alpha\": 2.0,\n",
    "        # SNN:\n",
    "        \"nb_hidden\": 100,\n",
    "        \"learn_beta\": False,\n",
    "        # Evolution Strategy:\n",
    "        \"nb_model_samples\": 100,\n",
    "        \"mirror\": True,\n",
    "        # Training:\n",
    "        \"std\": 0.1,\n",
    "        \"epochs\": 5,\n",
    "        \"batch_size\": 256,\n",
    "        \"method\": \"ppso\",\n",
    "        # Optimization:\n",
    "        \"loss\": \"loss_fn\",\n",
    "        \"optimizer\": \"Adam\",\n",
    "        \"lr\": 0.01,\n",
    "        \"regularization\": \"none\",\n",
    "    }\n",
    "    with wandb.init(\n",
    "        entity=\"DarwinNeuron\", project=\"big-sweep-test\", name=run_name, config=config\n",
    "    ) as run:\n",
    "        # update current run_name\n",
    "        keys = [\"method\", \"std\", \"batch_size\", \"lr\", \"nb_model_samples\", \"loss\"]\n",
    "        sorted_items = [f\"{getattr(run.config, k)}\" for k in sorted(keys)]\n",
    "        run.name = \"-\".join(sorted_items)\n",
    "        \n",
    "        # setting up local csv recording (optional)\n",
    "        result_path, _, _ = init_result_csv(dict(run.config), run.project)\n",
    "\n",
    "        my_model = PPSOModelWithPooling(\n",
    "                RandmanSNN,\n",
    "                run.config.nb_input, \n",
    "                run.config.nb_hidden, \n",
    "                run.config.nb_output, \n",
    "                run.config.learn_beta, \n",
    "                beta=0.95,\n",
    "                sample_size=run.config.nb_model_samples,\n",
    "                param_std=run.config.std,\n",
    "                lr=run.config.lr,\n",
    "                device=device,\n",
    "                mirror=run.config.mirror,\n",
    "                acc_threshold=0.90,\n",
    "                topk_ratio=0.25\n",
    "            )\n",
    "\n",
    "        # load dataset\n",
    "        train_loader, val_loader = split_and_load(\n",
    "            RandmanConfig(\n",
    "                nb_classes=run.config.nb_output,\n",
    "                nb_units=run.config.nb_input,\n",
    "                nb_steps=run.config.nb_steps,\n",
    "                nb_samples=run.config.nb_data_samples,\n",
    "                dim_manifold=run.config.dim_manifold,\n",
    "                alpha=run.config.alpha,\n",
    "            ).read_dataset(),\n",
    "            run.config.batch_size,\n",
    "        )\n",
    "        \n",
    "        # loss surface plotter\n",
    "        plotter_dir = f\"results/{run.project}/runs/{run.id}/\"\n",
    "        os.makedirs(plotter_dir, exist_ok=True)\n",
    "        loss_plotter = LossSurfacePlotter(plotter_dir+\"illuminated_loss_surface.npz\")\n",
    "\n",
    "        # epochs\n",
    "        for epoch in range(run.config.epochs):\n",
    "            print(f\"Epoch {epoch}\\n-------------------------------\")\n",
    "\n",
    "            # train the model\n",
    "            train_loop_snn(my_model, train_loader, val_loader, loss_fn_spk, device, run, epoch, loss_plotter=None)\n",
    "\n",
    "train_snn()"
   ]
  },
  {
   "cell_type": "code",
   "execution_count": null,
   "metadata": {},
   "outputs": [],
   "source": []
  }
 ],
 "metadata": {
  "kernelspec": {
   "display_name": "Python (cns)",
   "language": "python",
   "name": "cns"
  },
  "language_info": {
   "codemirror_mode": {
    "name": "ipython",
    "version": 3
   },
   "file_extension": ".py",
   "mimetype": "text/x-python",
   "name": "python",
   "nbconvert_exporter": "python",
   "pygments_lexer": "ipython3",
   "version": "3.10.16"
  }
 },
 "nbformat": 4,
 "nbformat_minor": 4
}
