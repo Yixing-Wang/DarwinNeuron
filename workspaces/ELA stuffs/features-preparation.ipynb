{
 "cells": [
  {
   "cell_type": "markdown",
   "id": "1ea28afc",
   "metadata": {},
   "source": [
    "# Experiment 1: Varying Randman"
   ]
  },
  {
   "cell_type": "markdown",
   "id": "bcd9e3a1",
   "metadata": {},
   "source": [
    "## Generate randman"
   ]
  },
  {
   "cell_type": "code",
   "execution_count": null,
   "id": "09db46e5",
   "metadata": {},
   "outputs": [],
   "source": [
    "from src.RandmanFunctions import RandmanConfig, generate_and_save_randman\n",
    "\n",
    "data_configs = [{'nb_classes': 2, 'nb_units': 3, 'alpha': 3, 'dim_manifold': 1},\n",
    "                {'nb_classes': 5, 'nb_units': 3, 'alpha': 3, 'dim_manifold': 1},\n",
    "                {'nb_classes': 2, 'nb_units': 10, 'alpha': 3, 'dim_manifold': 1},\n",
    "                {'nb_classes': 2, 'nb_units': 3, 'alpha': 1, 'dim_manifold': 1},\n",
    "                {'nb_classes': 2, 'nb_units': 3, 'alpha': 3, 'dim_manifold': 2}]"
   ]
  },
  {
   "cell_type": "code",
   "execution_count": null,
   "id": "03a2fd90",
   "metadata": {},
   "outputs": [],
   "source": [
    "for data_config in data_configs:\n",
    "    generate_and_save_randman(RandmanConfig(**data_config))"
   ]
  },
  {
   "cell_type": "markdown",
   "id": "4032b1b9",
   "metadata": {},
   "source": [
    "## Generate problem\n",
    "\n",
    "### BBOB problem\n",
    "What BBOB problems should be generated? \n",
    "* 24 functions\n",
    "* dims: 2, 160, 640 \n",
    "* 3 instances "
   ]
  },
  {
   "cell_type": "code",
   "execution_count": null,
   "id": "00441883",
   "metadata": {},
   "outputs": [],
   "source": [
    "from src.LandscapeAnalysis import BBOBProblemConfig\n",
    "def generate_bbob():\n",
    "    # Generate all combinations of BBOB problems with the given configurations\n",
    "    functions = list(range(1, 25))  # 24 functions\n",
    "    dimensions = [2, 160, 640]      # 3 dimensions\n",
    "    instances = [1, 2, 3]           # 3 instances\n",
    "\n",
    "    for function in functions:\n",
    "        for dim in dimensions:\n",
    "            for instance in instances:\n",
    "                problem_config = BBOBProblemConfig(function, instance, dim)\n",
    "                problem_config.write_to_db(db_path='data/landscape-analysis.db')\n",
    "generate_bbob()"
   ]
  },
  {
   "cell_type": "markdown",
   "id": "d67be258",
   "metadata": {},
   "source": [
    "### Generate samples and match with problems"
   ]
  },
  {
   "cell_type": "markdown",
   "id": "9f6a8c5d",
   "metadata": {},
   "source": [
    "How many samples should be used? Why not 30. "
   ]
  },
  {
   "cell_type": "code",
   "execution_count": null,
   "id": "89ddcff7",
   "metadata": {},
   "outputs": [],
   "source": [
    "import sqlite3\n",
    "from math import ceil, log2\n",
    "from src.LandscapeAnalysis import ParameterSampleConfig, assign_samples_to_problem, BBOBProblemConfig\n",
    "\n",
    "def assign_samples_to_bbob():\n",
    "    # Connect to the SQLite database\n",
    "    db_path = \"data/landscape-analysis.db\"\n",
    "    con = sqlite3.connect(db_path)\n",
    "    cur = con.cursor()\n",
    "\n",
    "    cur.execute(\"SELECT id, dim FROM bbob_problems\")\n",
    "    rows = cur.fetchall()\n",
    "    con.close()\n",
    "\n",
    "    for problem_id, dim in rows:\n",
    "        nb_samples = 2**(ceil(log2(50 * dim)))  # sobol's sample size must be a power of 2\n",
    "        max_nb_versions = 30\n",
    "        lower_bound = -5 # bbob are defined on [-5, 5]\n",
    "        upper_bound = 5\n",
    "        sample_config = ParameterSampleConfig(dim, nb_samples, \"sobol\", lower_bound, upper_bound)\n",
    "        problem_config = BBOBProblemConfig.lookup_by_id(problem_id)\n",
    "        assign_samples_to_problem(problem_config, sample_config, max_nb_versions, 'data/samples', 'data/landscape-analysis.db')\n",
    "assign_samples_to_bbob()\n",
    "  "
   ]
  },
  {
   "cell_type": "markdown",
   "id": "d20c6ccf",
   "metadata": {},
   "source": [
    "## Calculate loss"
   ]
  },
  {
   "cell_type": "code",
   "execution_count": null,
   "id": "d32d7f82",
   "metadata": {},
   "outputs": [],
   "source": [
    "from src.LandscapeAnalysis import get_next_available_id, calculate_and_save_loss\n",
    "\n",
    "while (id := get_next_available_id('loss_filename')) is not None:\n",
    "    calculate_and_save_loss(id)"
   ]
  },
  {
   "cell_type": "markdown",
   "id": "7579f4d7",
   "metadata": {},
   "source": [
    "## Extract Features"
   ]
  },
  {
   "cell_type": "code",
   "execution_count": null,
   "id": "282bbd67",
   "metadata": {},
   "outputs": [
    {
     "name": "stdout",
     "output_type": "stream",
     "text": [
      "Column 'ic_h_max' added to 'loss_surfaces' table by get_next_available_id()\n"
     ]
    }
   ],
   "source": [
    "from pflacco.classical_ela_features import *\n",
    "from src.LandscapeAnalysis import get_next_available_id, calculate_and_save_features\n",
    "while (id := get_next_available_id('ic_h_max')) is not None:\n",
    "    calculate_and_save_features(id, calculate_information_content)"
   ]
  },
  {
   "cell_type": "code",
   "execution_count": null,
   "id": "c2561070",
   "metadata": {},
   "outputs": [
    {
     "name": "stdout",
     "output_type": "stream",
     "text": [
      "{'r20_ela_meta.lin_simple.adj_r2': -0.005409156310980379, 'r20_ela_meta.lin_simple.intercept': 0.4715494876893619, 'r20_ela_meta.lin_simple.coef.min': 0.0020344682591832736, 'r20_ela_meta.lin_simple.coef.max': 0.08213140207973536, 'r20_ela_meta.lin_simple.coef.max_by_min': 40.36995991901421, 'r20_ela_meta.lin_w_interact.adj_r2': -0.019009364039383136, 'r20_ela_meta.quad_simple.adj_r2': -0.0057795330142678125, 'r20_ela_meta.quad_simple.cond': 5.64899122378976, 'r20_ela_meta.quad_w_interact.adj_r2': 0.002901501956317998, 'r20_ela_meta.costs_runtime': 0.015}\n"
     ]
    }
   ],
   "source": [
    "from pflacco.classical_ela_features import *\n",
    "import numpy as np\n",
    "\n",
    "def find_feature_name():\n",
    "    from pflacco.sampling import create_initial_sample\n",
    "\n",
    "    # Arbitrary objective function\n",
    "    def objective_function(x):\n",
    "        return np.random.rand()\n",
    "\n",
    "    dim = 3\n",
    "    # Create inital sample using latin hyper cube sampling\n",
    "    X = create_initial_sample(dim, sample_type = 'lhs')\n",
    "    # Calculate the objective values of the initial sample\n",
    "    # using an arbitrary objective function\n",
    "    y = X.apply(lambda x: objective_function(x), axis = 1)\n",
    "\n",
    "    # Compute the 3 feature sets from the classical ELA features which are solely based on the initial sample\n",
    "    ela_meta = calculate_ela_meta(X, y)\n",
    "    print(ela_meta)\n",
    "find_feature_name()"
   ]
  },
  {
   "cell_type": "markdown",
   "id": "fbe7531e",
   "metadata": {},
   "source": [
    "# Experiment 2: Varying SNN\n",
    "\n",
    "## Generate SNN models"
   ]
  },
  {
   "cell_type": "code",
   "execution_count": 2,
   "id": "6a71bb92",
   "metadata": {},
   "outputs": [],
   "source": [
    "from src.Models import RandmanSNNConfig\n",
    "\n",
    "def generate_snn_models_configs():\n",
    "    # constants in this experiment\n",
    "    BETA = 0.95\n",
    "    LEARN_BETA = True\n",
    "    PARAMETER_TYPE = 'weights'\n",
    "    \n",
    "    # variables in this experiment\n",
    "    nb_hidden_1_list = [100, 100, 30, 100]\n",
    "    recurrent_list = [False, True, False, False]\n",
    "    nb_hidden_2_list = [-1, -1, -1, 10]\n",
    "    for i in range(len(nb_hidden_1_list)):\n",
    "        config = RandmanSNNConfig(\n",
    "            nb_hidden_1=nb_hidden_1_list[i],\n",
    "            nb_hidden_2=nb_hidden_2_list[i],\n",
    "            beta=BETA,\n",
    "            learn_beta=LEARN_BETA,\n",
    "            recurrent=recurrent_list[i],\n",
    "            parameter_type=PARAMETER_TYPE\n",
    "        )\n",
    "        config.write_to_db(db_path='data/landscape-analysis.db')\n",
    "generate_snn_models_configs()"
   ]
  }
 ],
 "metadata": {
  "kernelspec": {
   "display_name": "darwin",
   "language": "python",
   "name": "python3"
  },
  "language_info": {
   "codemirror_mode": {
    "name": "ipython",
    "version": 3
   },
   "file_extension": ".py",
   "mimetype": "text/x-python",
   "name": "python",
   "nbconvert_exporter": "python",
   "pygments_lexer": "ipython3",
   "version": "3.11.13"
  }
 },
 "nbformat": 4,
 "nbformat_minor": 5
}
